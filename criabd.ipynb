{
 "cells": [
  {
   "cell_type": "code",
   "execution_count": 1,
   "metadata": {},
   "outputs": [],
   "source": [
    "from chatrelatorios import BancoVetorRelatoriosAuditoria\n",
    "import os"
   ]
  },
  {
   "cell_type": "code",
   "execution_count": 2,
   "metadata": {},
   "outputs": [],
   "source": [
    "home_dir = os.getcwd()\n",
    "    \n",
    "bd = BancoVetorRelatoriosAuditoria(home_dir=home_dir,\\\n",
    "            persist_directory='bd\\\\chroma', deployment_name_embedding='teste-embedding')"
   ]
  },
  {
   "cell_type": "code",
   "execution_count": 3,
   "metadata": {},
   "outputs": [
    {
     "name": "stdout",
     "output_type": "stream",
     "text": [
      "Processando relatório de:  https://eaud.cgu.gov.br/relatorios/download/1284985\n",
      "Processando relatório de:  https://eaud.cgu.gov.br/relatorios/download/1173969\n",
      "Processando relatório de:  https://eaud.cgu.gov.br/relatorios/download/1478910\n",
      "Processando relatório de:  https://eaud.cgu.gov.br/relatorios/download/1275021\n",
      "Processando relatório de:  https://eaud.cgu.gov.br/relatorios/download/1281617\n",
      "Processando relatório de:  https://eaud.cgu.gov.br/relatorios/download/1488524\n",
      "Processando relatório de:  https://eaud.cgu.gov.br/relatorios/download/1488525\n",
      "Processando relatório de:  https://eaud.cgu.gov.br/relatorios/download/1488523\n",
      "Processando relatório de:  https://eaud.cgu.gov.br/relatorios/download/1347877\n",
      "Processando relatório de:  https://eaud.cgu.gov.br/relatorios/download/1467856\n",
      "Processando relatório de:  https://eaud.cgu.gov.br/relatorios/download/1427945\n",
      "Processando relatório de:  https://eaud.cgu.gov.br/relatorios/download/1477713\n",
      "Processando relatório de:  https://eaud.cgu.gov.br/relatorios/download/1477718\n",
      "Processando relatório de:  https://eaud.cgu.gov.br/relatorios/download/1477689\n",
      "Processando relatório de:  https://eaud.cgu.gov.br/relatorios/download/1477706\n",
      "Processando relatório de:  https://eaud.cgu.gov.br/relatorios/download/1477694\n",
      "Processando relatório de:  https://eaud.cgu.gov.br/relatorios/download/1409437\n",
      "Processando relatório de:  https://eaud.cgu.gov.br/relatorios/download/1447224\n",
      "Processando relatório de:  https://eaud.cgu.gov.br/relatorios/download/1279596\n",
      "Processando relatório de:  https://eaud.cgu.gov.br/relatorios/download/1470412\n",
      "Processando relatório de:  https://eaud.cgu.gov.br/relatorios/download/1468551\n",
      "Processando relatório de:  https://eaud.cgu.gov.br/relatorios/download/1290850\n",
      "Processando relatório de:  https://eaud.cgu.gov.br/relatorios/download/1206729\n",
      "Processando relatório de:  https://eaud.cgu.gov.br/relatorios/download/1455201\n",
      "Processando relatório de:  https://eaud.cgu.gov.br/relatorios/download/1451368\n",
      "Processando relatório de:  https://eaud.cgu.gov.br/relatorios/download/1409443\n",
      "Processando relatório de:  https://eaud.cgu.gov.br/relatorios/download/1169368\n",
      "Processando relatório de:  https://eaud.cgu.gov.br/relatorios/download/1453696\n",
      "Processando relatório de:  https://eaud.cgu.gov.br/relatorios/download/1453698\n",
      "Processando relatório de:  https://eaud.cgu.gov.br/relatorios/download/1454050\n",
      "Processando relatório de:  https://eaud.cgu.gov.br/relatorios/download/1254885\n",
      "Processando relatório de:  https://eaud.cgu.gov.br/relatorios/download/1277150\n",
      "Processando relatório de:  https://eaud.cgu.gov.br/relatorios/download/1438490\n",
      "Processando relatório de:  https://eaud.cgu.gov.br/relatorios/download/1438486\n",
      "Processando relatório de:  https://eaud.cgu.gov.br/relatorios/download/1438489\n",
      "Processando relatório de:  https://eaud.cgu.gov.br/relatorios/download/1275622\n",
      "Processando relatório de:  https://eaud.cgu.gov.br/relatorios/download/1423499\n",
      "Processando relatório de:  https://eaud.cgu.gov.br/relatorios/download/1073585\n",
      "Processando relatório de:  https://eaud.cgu.gov.br/relatorios/download/1419576\n",
      "Processando relatório de:  https://eaud.cgu.gov.br/relatorios/download/1419563\n",
      "Processando relatório de:  https://eaud.cgu.gov.br/relatorios/download/1419569\n",
      "Processando relatório de:  https://eaud.cgu.gov.br/relatorios/download/1419562\n",
      "Processando relatório de:  https://eaud.cgu.gov.br/relatorios/download/1193107\n",
      "Processando relatório de:  https://eaud.cgu.gov.br/relatorios/download/1418823\n",
      "Processando relatório de:  https://eaud.cgu.gov.br/relatorios/download/1405651\n",
      "Processando relatório de:  https://eaud.cgu.gov.br/relatorios/download/1179689\n",
      "Processando relatório de:  https://eaud.cgu.gov.br/relatorios/download/1409379\n",
      "Processando relatório de:  https://eaud.cgu.gov.br/relatorios/download/1409464\n",
      "Processando relatório de:  https://eaud.cgu.gov.br/relatorios/download/1277116\n",
      "Processando relatório de:  https://eaud.cgu.gov.br/relatorios/download/1405418\n",
      "Processando relatório de:  https://eaud.cgu.gov.br/relatorios/download/1178868\n",
      "Processando relatório de:  https://eaud.cgu.gov.br/relatorios/download/1406740\n",
      "Processando relatório de:  https://eaud.cgu.gov.br/relatorios/download/1406828\n",
      "Processando relatório de:  https://eaud.cgu.gov.br/relatorios/download/1406720\n",
      "Processando relatório de:  https://eaud.cgu.gov.br/relatorios/download/1405653\n",
      "Processando relatório de:  https://eaud.cgu.gov.br/relatorios/download/1405687\n",
      "Processando relatório de:  https://eaud.cgu.gov.br/relatorios/download/1405620\n",
      "Processando relatório de:  https://eaud.cgu.gov.br/relatorios/download/1399521\n",
      "Processando relatório de:  https://eaud.cgu.gov.br/relatorios/download/1399539\n",
      "Processando relatório de:  https://eaud.cgu.gov.br/relatorios/download/1208900\n",
      "Processando relatório de:  https://eaud.cgu.gov.br/relatorios/download/1253297\n",
      "61 relatórios processados com sucesso!\n"
     ]
    }
   ],
   "source": [
    "bd.relatorio_pdf_to_document()"
   ]
  },
  {
   "cell_type": "code",
   "execution_count": 4,
   "metadata": {},
   "outputs": [
    {
     "name": "stdout",
     "output_type": "stream",
     "text": [
      "Criando banco de vetores...\n",
      "1495 documentos\n",
      "Banco de vetor criado em c:\\Users\\glled\\OneDrive - CGU\\chat-documents\\bd\\chroma\n"
     ]
    }
   ],
   "source": [
    "bd.cria_bd_chroma()"
   ]
  }
 ],
 "metadata": {
  "kernelspec": {
   "display_name": "chat-documents",
   "language": "python",
   "name": "python3"
  },
  "language_info": {
   "codemirror_mode": {
    "name": "ipython",
    "version": 3
   },
   "file_extension": ".py",
   "mimetype": "text/x-python",
   "name": "python",
   "nbconvert_exporter": "python",
   "pygments_lexer": "ipython3",
   "version": "3.11.2"
  },
  "orig_nbformat": 4
 },
 "nbformat": 4,
 "nbformat_minor": 2
}
